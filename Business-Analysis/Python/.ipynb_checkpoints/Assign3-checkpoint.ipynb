{
 "cells": [
  {
   "cell_type": "markdown",
   "id": "0ce1ad8a",
   "metadata": {},
   "source": [
    "Q. W. A P. which takes one number from 0 to 9 from the user and prints\n",
    "it in the word. And if the word is not from 0 to 9 then\n",
    "it should print that number is outside of the range and program should\n",
    "exit.\n",
    "For exapmple:-\n",
    "input = 1\n",
    "output = one"
   ]
  },
  {
   "cell_type": "code",
   "execution_count": null,
   "id": "85e28fce",
   "metadata": {},
   "outputs": [],
   "source": [
    "num = int(input('Enter the Number between 0-9:'))\n",
    "if num == 0:\n",
    "    print('Zero')\n",
    "elif num == 1:\n",
    "    print('One')\n",
    "elif num == 2:\n",
    "    print('Two')\n",
    "elif num == 3:\n",
    "    print('Three')\n",
    "elif num == 4:\n",
    "    print('Four')\n",
    "elif num == 5:\n",
    "    print('Five')\n",
    "elif num == 6:\n",
    "    print('Six')\n",
    "elif num == 7:\n",
    "    print('Seven')\n",
    "elif num == 8:\n",
    "    print('Eight')\n",
    "elif num == 9:\n",
    "    print('Nine')\n",
    "else:\n",
    "    print('Invalid')"
   ]
  },
  {
   "cell_type": "markdown",
   "id": "cd980339",
   "metadata": {},
   "source": [
    "Q. W. A P. to implement calculator but the operation to be done and two\n",
    "numbers will be taken as input from user:-\n",
    "Operation console should show below:-\n",
    "Please select any one operation from below:-\n",
    "* To add enter 1\n",
    "* to subtract enter 2\n",
    "* To multiply enter 3\n",
    "* To divide enter 4\n",
    "* To divide and find quotient enter 5\n",
    "* To divide and find remainder enter 6\n",
    "* To divide and find num1 to the power of num2 enter 7\n",
    "* To Come out of the program enter 8"
   ]
  },
  {
   "cell_type": "code",
   "execution_count": null,
   "id": "75e507ad",
   "metadata": {},
   "outputs": [],
   "source": [
    "num1,num2 = input('Enter the Numbers:').split()\n",
    "opt = input('Enter the Numbers:')\n",
    "\n",
    "if opt == 1:\n",
    "    print(num1+num2)\n",
    "elif opt == 2:\n",
    "    if num1>num2:\n",
    "        print(num1-num2)\n",
    "    else:\n",
    "        print(num2-num1)\n",
    "elif opt == 3:\n",
    "    print(num1*num2)\n",
    "elif opt == 4:\n",
    "    if num1>num2:\n",
    "        print(num1/num2)\n",
    "    else:\n",
    "        print(num2/num1)\n",
    "elif opt == 5:\n",
    "    if num1>num2:\n",
    "        print(num1//num2)\n",
    "    else:\n",
    "        print(num2//num1)\n",
    "elif opt == 6:\n",
    "    if num1>num2:\n",
    "        print(num1%num2)\n",
    "    else:\n",
    "        print(num2%num1)\n",
    "else:\n",
    "    print('Invalid')"
   ]
  },
  {
   "cell_type": "code",
   "execution_count": null,
   "id": "84c7990f",
   "metadata": {},
   "outputs": [],
   "source": []
  },
  {
   "cell_type": "code",
   "execution_count": null,
   "id": "22124b18",
   "metadata": {},
   "outputs": [],
   "source": []
  }
 ],
 "metadata": {
  "kernelspec": {
   "display_name": "Python 3 (ipykernel)",
   "language": "python",
   "name": "python3"
  },
  "language_info": {
   "codemirror_mode": {
    "name": "ipython",
    "version": 3
   },
   "file_extension": ".py",
   "mimetype": "text/x-python",
   "name": "python",
   "nbconvert_exporter": "python",
   "pygments_lexer": "ipython3",
   "version": "3.10.9"
  }
 },
 "nbformat": 4,
 "nbformat_minor": 5
}
