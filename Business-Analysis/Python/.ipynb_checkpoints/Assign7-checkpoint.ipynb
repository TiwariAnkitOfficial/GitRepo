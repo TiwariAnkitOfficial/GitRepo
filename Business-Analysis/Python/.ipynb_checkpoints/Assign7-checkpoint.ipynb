{
 "cells": [
  {
   "cell_type": "code",
   "execution_count": 1,
   "id": "9ae49d8a",
   "metadata": {},
   "outputs": [
    {
     "data": {
      "text/plain": [
       "12"
      ]
     },
     "execution_count": 1,
     "metadata": {},
     "output_type": "execute_result"
    }
   ],
   "source": [
    "# Define a function calls addNumber(x, y) that takes in two number and returns the sum of the two numbers.\n",
    "\n",
    "def addNumber(x,y):\n",
    "    return x+y\n",
    "addNumber(5,7)"
   ]
  },
  {
   "cell_type": "code",
   "execution_count": 2,
   "id": "1462a419",
   "metadata": {},
   "outputs": [
    {
     "data": {
      "text/plain": [
       "2"
      ]
     },
     "execution_count": 2,
     "metadata": {},
     "output_type": "execute_result"
    }
   ],
   "source": [
    "# Define a function calls subtractNumber(x, y) that takes in two numbers and returns the difference of the two numbers.\n",
    "\n",
    "def subtractNumber(x, y):\n",
    "    if x>y:\n",
    "        return x-y\n",
    "    else:\n",
    "        return y-x\n",
    "subtractNumber(5, 7)"
   ]
  },
  {
   "cell_type": "code",
   "execution_count": 3,
   "id": "e00f6119",
   "metadata": {},
   "outputs": [
    {
     "data": {
      "text/plain": [
       "7"
      ]
     },
     "execution_count": 3,
     "metadata": {},
     "output_type": "execute_result"
    }
   ],
   "source": [
    "# Write a function getBiggerNumber(x, y) that takes in two numbers as arguments and returns the bigger number.\n",
    "\n",
    "def getBiggerNumber(x, y):\n",
    "    if x>y:\n",
    "        return x\n",
    "    else:\n",
    "        return y\n",
    "getBiggerNumber(5, 7)"
   ]
  },
  {
   "cell_type": "code",
   "execution_count": 12,
   "id": "2a6045b6",
   "metadata": {},
   "outputs": [
    {
     "name": "stdout",
     "output_type": "stream",
     "text": [
      "4.0 243 28.274333882308138\n"
     ]
    }
   ],
   "source": [
    "# Python provides many built-in modules with many useful functions. \n",
    "# One such module is the math module. The math module provides many \n",
    "#  useful functions such as sqrt(x), pow(x, y), ceil(x), floor(x) etc. \n",
    "# You will need to do a \"import math\" before you are allowed to use the functions within the math module.\n",
    "\n",
    "import math\n",
    "\n",
    "# Calculate the square root of 16 and stores it in the variable a\n",
    "\n",
    "a = math.sqrt(16)\n",
    "\n",
    "# Calculate 3 to the power of 5 and stores it in the variable b\n",
    "\n",
    "b = pow(3,5)\n",
    "\n",
    "# Calculate area of circle with radius = 3.0 by making use of the math.pi constant and store it in the variable c\n",
    "\n",
    "c = math.pi * pow(3.0,2)\n",
    "\n",
    "print(a,b,c)"
   ]
  },
  {
   "cell_type": "code",
   "execution_count": 13,
   "id": "8ad93e6c",
   "metadata": {},
   "outputs": [],
   "source": [
    "# Write a function to convert temperature from Celsius to Fahrenheit scale.\n",
    "# oC to oF Conversion: Multipy by 9, then divide by 5, then add 32.\n",
    "\n",
    "# Note: Return a string of 2 decimal places.\n",
    "# In - Cel2Fah(28.0)\n",
    "# Out - '82.40'\n",
    "# In - Cel2Fah(0.00)\n",
    "# Out - '32.00'"
   ]
  },
  {
   "cell_type": "code",
   "execution_count": null,
   "id": "3d2156a4",
   "metadata": {},
   "outputs": [],
   "source": []
  }
 ],
 "metadata": {
  "kernelspec": {
   "display_name": "Python 3 (ipykernel)",
   "language": "python",
   "name": "python3"
  },
  "language_info": {
   "codemirror_mode": {
    "name": "ipython",
    "version": 3
   },
   "file_extension": ".py",
   "mimetype": "text/x-python",
   "name": "python",
   "nbconvert_exporter": "python",
   "pygments_lexer": "ipython3",
   "version": "3.10.9"
  }
 },
 "nbformat": 4,
 "nbformat_minor": 5
}
